{
 "cells": [
  {
   "cell_type": "code",
   "execution_count": 1,
   "metadata": {
    "_cell_guid": "b1076dfc-b9ad-4769-8c92-a6c4dae69d19",
    "_uuid": "8f2839f25d086af736a60e9eeb907d3b93b6e0e5",
    "collapsed": true
   },
   "outputs": [],
   "source": [
    "#Importing the libraries\n",
    "import numpy as np # linear algebra\n",
    "import pandas as pd # data processing, CSV file I/O (e.g. pd.read_csv)\n",
    "#Visualisations\n",
    "import seaborn as sns\n",
    "import matplotlib.pyplot as plt"
   ]
  },
  {
   "cell_type": "markdown",
   "metadata": {},
   "source": [
    "# Data Preprocessing"
   ]
  },
  {
   "cell_type": "code",
   "execution_count": 2,
   "metadata": {
    "collapsed": true
   },
   "outputs": [],
   "source": [
    "from sklearn.model_selection import train_test_split\n",
    "from sklearn.impute import SimpleImputer\n",
    "from sklearn.preprocessing import StandardScaler,OneHotEncoder\n",
    "from sklearn.compose import ColumnTransformer, make_column_transformer\n",
    "from sklearn.pipeline import make_pipeline"
   ]
  },
  {
   "cell_type": "markdown",
   "metadata": {},
   "source": [
    "Importing the dataset"
   ]
  },
  {
   "cell_type": "code",
   "execution_count": 3,
   "metadata": {
    "collapsed": true
   },
   "outputs": [],
   "source": [
    "train = pd.read_csv(\"input/train.csv\")\n",
    "test = pd.read_csv(\"input/test.csv\")\n",
    "df = pd.concat([train.iloc[:,:-1],test],axis=0)\n",
    "target = train[\"SalePrice\"]\n",
    "features = train.iloc[:,:-1].copy()"
   ]
  },
  {
   "cell_type": "code",
   "execution_count": 4,
   "metadata": {
    "_uuid": "f1aaaa9f4a564824465e129b75a9300bed749695"
   },
   "outputs": [
    {
     "name": "stdout",
     "output_type": "stream",
     "text": [
      "(1460, 81) (1460,)\n",
      "(1168, 81) (1168,)\n",
      "(292, 81) (292,)\n"
     ]
    }
   ],
   "source": [
    "#Removing Skew from SalesPrice data\n",
    "target_log = np.log(target)\n",
    "X_train, X_test, y_train, y_test = train_test_split(train, target_log, test_size=0.2, random_state=0)\n",
    "print(train.shape, target_log.shape)\n",
    "print(X_train.shape, y_train.shape)\n",
    "print(X_test.shape, y_test.shape)"
   ]
  },
  {
   "cell_type": "markdown",
   "metadata": {
    "_uuid": "176f907970011ddd964f03ff05c627b7e334c981"
   },
   "source": [
    "Creating the preprocessing pipelines for both numeric and categorical data."
   ]
  },
  {
   "cell_type": "code",
   "execution_count": 5,
   "metadata": {
    "_uuid": "ac8bc53c3ece7780a6cd31b7b62b970b07e124af",
    "collapsed": true
   },
   "outputs": [],
   "source": [
    "def features_split(df, cardinality = 10): \n",
    "    categorical_features_with_low_cardinality = (df.dtypes == \"object\") & (df.nunique() < cardinality)\n",
    "    categorical_features_with_high_cardinality = (df.dtypes == \"object\") & (df.nunique() >= cardinality)\n",
    "    numerical_features = (df.dtypes == \"int\") | (df.dtypes == \"float\")\n",
    "    selected_categorical_features = df.columns[categorical_features_with_low_cardinality].values.tolist()\n",
    "    selected_numerical_features = df.columns[numerical_features].values.tolist()\n",
    "    return selected_categorical_features,selected_numerical_features"
   ]
  },
  {
   "cell_type": "code",
   "execution_count": 6,
   "metadata": {
    "_kg_hide-input": true,
    "_uuid": "a51193a59700da0acd7441003cda5b265c97098f",
    "collapsed": true
   },
   "outputs": [],
   "source": [
    "categorical_features, numerical_features = features_split(X_train)"
   ]
  },
  {
   "cell_type": "code",
   "execution_count": 7,
   "metadata": {
    "_uuid": "47b4de73610d2212ac2b026877d551291a06b000"
   },
   "outputs": [
    {
     "data": {
      "text/plain": [
       "['MSZoning',\n",
       " 'Street',\n",
       " 'Alley',\n",
       " 'LotShape',\n",
       " 'LandContour',\n",
       " 'Utilities',\n",
       " 'LotConfig',\n",
       " 'LandSlope',\n",
       " 'Condition1',\n",
       " 'Condition2',\n",
       " 'BldgType',\n",
       " 'HouseStyle',\n",
       " 'RoofStyle',\n",
       " 'RoofMatl',\n",
       " 'MasVnrType',\n",
       " 'ExterQual',\n",
       " 'ExterCond',\n",
       " 'Foundation',\n",
       " 'BsmtQual',\n",
       " 'BsmtCond',\n",
       " 'BsmtExposure',\n",
       " 'BsmtFinType1',\n",
       " 'BsmtFinType2',\n",
       " 'Heating',\n",
       " 'HeatingQC',\n",
       " 'CentralAir',\n",
       " 'Electrical',\n",
       " 'KitchenQual',\n",
       " 'Functional',\n",
       " 'FireplaceQu',\n",
       " 'GarageType',\n",
       " 'GarageFinish',\n",
       " 'GarageQual',\n",
       " 'GarageCond',\n",
       " 'PavedDrive',\n",
       " 'PoolQC',\n",
       " 'Fence',\n",
       " 'MiscFeature',\n",
       " 'SaleType',\n",
       " 'SaleCondition']"
      ]
     },
     "execution_count": 7,
     "metadata": {},
     "output_type": "execute_result"
    }
   ],
   "source": [
    "categorical_features"
   ]
  },
  {
   "cell_type": "code",
   "execution_count": 8,
   "metadata": {
    "_uuid": "b1c495612791a9846fb42c27b88e17cbb51b8a29",
    "collapsed": true
   },
   "outputs": [],
   "source": [
    "categorical_transformer = make_pipeline(SimpleImputer(strategy='constant', fill_value = 'missing'),\n",
    "                                        OneHotEncoder(handle_unknown='ignore',sparse = False))\n",
    "numerical_transformer = make_pipeline(SimpleImputer(strategy='median'))\n",
    "preprocess = make_column_transformer( \n",
    "    (categorical_transformer, categorical_features),\n",
    "    (numerical_transformer, numerical_features))"
   ]
  },
  {
   "cell_type": "markdown",
   "metadata": {
    "_uuid": "043d40caec840f84f1361145d2f93df1102007cb"
   },
   "source": [
    "Combining preprocessing step based on the ColumnTransformer with a classifier\n",
    "in order to get a full prediction pipeline:"
   ]
  },
  {
   "cell_type": "code",
   "execution_count": 9,
   "metadata": {
    "_uuid": "355ef1aba9b1e5cebad031de648ddf31432f19ec",
    "collapsed": true
   },
   "outputs": [],
   "source": [
    "from sklearn.ensemble import RandomForestRegressor\n",
    "model = make_pipeline(preprocess, RandomForestRegressor(n_estimators=10))"
   ]
  },
  {
   "cell_type": "code",
   "execution_count": 10,
   "metadata": {
    "_cell_guid": "79c7e3d0-c299-4dcb-8224-4455121ee9b0",
    "_uuid": "d629ff2d2480ee46fbb7e2d37f6b5fab8052498a"
   },
   "outputs": [
    {
     "data": {
      "text/plain": [
       "Pipeline(memory=None,\n",
       "     steps=[('columntransformer', ColumnTransformer(n_jobs=None, remainder='drop', sparse_threshold=0.3,\n",
       "         transformer_weights=None,\n",
       "         transformers=[('pipeline-1', Pipeline(memory=None,\n",
       "     steps=[('simpleimputer', SimpleImputer(copy=True, fill_value='missing', missing_values=nan,\n",
       "       s...ators=10, n_jobs=None,\n",
       "           oob_score=False, random_state=None, verbose=0, warm_start=False))])"
      ]
     },
     "execution_count": 10,
     "metadata": {},
     "output_type": "execute_result"
    }
   ],
   "source": [
    "model.fit(X_train,y_train)"
   ]
  },
  {
   "cell_type": "code",
   "execution_count": 11,
   "metadata": {
    "_uuid": "bc744284b1bb5771bc0594036139004b4ea61bd9"
   },
   "outputs": [
    {
     "data": {
      "text/plain": [
       "0.7320880048607918"
      ]
     },
     "execution_count": 11,
     "metadata": {},
     "output_type": "execute_result"
    }
   ],
   "source": [
    "model.score(X_test, y_test)"
   ]
  },
  {
   "cell_type": "markdown",
   "metadata": {
    "_uuid": "415d967bbc586e4468d7815ac64653a265d54ac1"
   },
   "source": [
    "# Model validation"
   ]
  },
  {
   "cell_type": "code",
   "execution_count": 12,
   "metadata": {
    "_uuid": "5f0b5e4b53f8e74a8523a43f2b97430111ff462f",
    "collapsed": true
   },
   "outputs": [],
   "source": [
    "#model validation\n",
    "from sklearn.metrics import r2_score, mean_absolute_error, mean_squared_error\n",
    "from sklearn.model_selection import GridSearchCV, cross_val_score"
   ]
  },
  {
   "cell_type": "code",
   "execution_count": 13,
   "metadata": {
    "_uuid": "1c7cdd58c06efdd9e5f5855f3b7682ae8b20cde1",
    "collapsed": true
   },
   "outputs": [],
   "source": [
    "#importing classes of models\n",
    "from sklearn.linear_model import LinearRegression, Lasso, Ridge\n",
    "from sklearn.tree import DecisionTreeRegressor\n",
    "from sklearn.ensemble import RandomForestRegressor\n",
    "from sklearn.model_selection import GridSearchCV\n",
    "from xgboost import XGBRegressor"
   ]
  },
  {
   "cell_type": "code",
   "execution_count": 14,
   "metadata": {
    "_uuid": "e5e53b9a1e2fa45aa037c79efb7e3dfd95ad3462",
    "collapsed": true
   },
   "outputs": [],
   "source": [
    "def evaluation(y_test, predicted_values):\n",
    "    print(\" MAE score: \"+ str(mean_absolute_error(y_test,predicted_values))+ \n",
    "          \" R^2 score: \" + str(r2_score(y_test,predicted_values)) + \n",
    "          \" MSE score: \" + str(mean_squared_error(y_test,predicted_values)))"
   ]
  },
  {
   "cell_type": "code",
   "execution_count": 15,
   "metadata": {
    "_uuid": "8bf3635c9e0dbe6039e0debc3cb98e65bc119e17"
   },
   "outputs": [
    {
     "name": "stdout",
     "output_type": "stream",
     "text": [
      " MAE score: 0.14338295500259457 R^2 score: 0.7320880048607918 MSE score: 0.040561833703403716\n"
     ]
    }
   ],
   "source": [
    "predicted_values = model.predict(X_test)\n",
    "evaluation(y_test, predicted_values)"
   ]
  },
  {
   "cell_type": "code",
   "execution_count": 16,
   "metadata": {
    "_uuid": "99d0c5846eabde2bcede1068cfbd3b2e70586490",
    "collapsed": true
   },
   "outputs": [],
   "source": [
    "def model_validation(estimator, parameters, X_train, y_train, X_test, y_test):\n",
    "    model_pipe = make_pipeline(preprocess, estimator)\n",
    "    model_grid = GridSearchCV(model_pipe, parameters, \n",
    "                                      verbose=1 , scoring = \"r2\", cv=5)\n",
    "    model_grid.fit(X_train, y_train)\n",
    "   # print(\"Best model: \" + str(model_grid.best_estimator_))\n",
    "   # print(\"Best score: \" + str(model_grid.best_score_))\n",
    "    predicted_values = model_grid.best_estimator_.fit(X_train, y_train).predict(X_test)\n",
    "    evaluation(y_test, predicted_values)\n",
    "    print(\" cross validation score: \" +str(np.mean(cross_val_score(model_grid.best_estimator_,X_train,y_train,cv=10, scoring=\"r2\"))))"
   ]
  },
  {
   "cell_type": "markdown",
   "metadata": {},
   "source": [
    "# Model Tuning"
   ]
  },
  {
   "cell_type": "markdown",
   "metadata": {
    "_uuid": "8bd1adda31216c44ad5e0c153caa03d783061a32"
   },
   "source": [
    "XGBRegressor"
   ]
  },
  {
   "cell_type": "code",
   "execution_count": 17,
   "metadata": {
    "_uuid": "b0362933995d99aa8b1d5b2c7403a7a131d1e408"
   },
   "outputs": [
    {
     "name": "stdout",
     "output_type": "stream",
     "text": [
      "Fitting 5 folds for each of 2 candidates, totalling 10 fits\n"
     ]
    },
    {
     "name": "stderr",
     "output_type": "stream",
     "text": [
      "[Parallel(n_jobs=1)]: Using backend SequentialBackend with 1 concurrent workers.\n",
      "[Parallel(n_jobs=1)]: Done  10 out of  10 | elapsed:    5.8s finished\n"
     ]
    },
    {
     "name": "stdout",
     "output_type": "stream",
     "text": [
      " MAE score: 0.12823551956099039 R^2 score: 0.7914360542938411 MSE score: 0.03157654840300533\n",
      " cross validation score: 0.7852245057013055\n"
     ]
    }
   ],
   "source": [
    "parameters = {\"xgbregressor__max_depth\": [3,5]}\n",
    "model_validation(XGBRegressor(), parameters, X_train, y_train, X_test, y_test)"
   ]
  },
  {
   "cell_type": "markdown",
   "metadata": {
    "_uuid": "17c7bb9286a09c035b438685b65c3455ae9e5192"
   },
   "source": [
    "Linear Regression Model"
   ]
  },
  {
   "cell_type": "code",
   "execution_count": 18,
   "metadata": {
    "_uuid": "75097282a15b1d6679529d9864b8c781749d83bb"
   },
   "outputs": [
    {
     "name": "stdout",
     "output_type": "stream",
     "text": [
      "Fitting 5 folds for each of 8 candidates, totalling 40 fits\n"
     ]
    },
    {
     "name": "stderr",
     "output_type": "stream",
     "text": [
      "[Parallel(n_jobs=1)]: Using backend SequentialBackend with 1 concurrent workers.\n",
      "[Parallel(n_jobs=1)]: Done  40 out of  40 | elapsed:    6.1s finished\n",
      "C:\\ProgramData\\Anaconda3\\lib\\site-packages\\sklearn\\model_selection\\_search.py:841: DeprecationWarning: The default of the `iid` parameter will change from True to False in version 0.22 and will be removed in 0.24. This will change numeric results when test-set sizes are unequal.\n",
      "  DeprecationWarning)\n"
     ]
    },
    {
     "name": "stdout",
     "output_type": "stream",
     "text": [
      " MAE score: 0.1541659335128122 R^2 score: 0.647079809853667 MSE score: 0.05343206098648551\n",
      " cross validation score: 0.7646967759586397\n"
     ]
    }
   ],
   "source": [
    "linear_regression_parameters = {'linearregression__fit_intercept':[True,False],\n",
    "                               'linearregression__normalize':[True,False], \n",
    "                               'linearregression__copy_X':[True, False],\n",
    "                               }\n",
    "model_validation(LinearRegression(), linear_regression_parameters, X_train, y_train, X_test, y_test)"
   ]
  },
  {
   "cell_type": "markdown",
   "metadata": {
    "_uuid": "961b5e15c744d8c129f6ffcbf4580626123003fa"
   },
   "source": [
    "Lasso Model"
   ]
  },
  {
   "cell_type": "code",
   "execution_count": 19,
   "metadata": {
    "_uuid": "6546fbac2df1023f876803a29241612d9b88ddef"
   },
   "outputs": [
    {
     "name": "stdout",
     "output_type": "stream",
     "text": [
      "Fitting 5 folds for each of 16 candidates, totalling 80 fits\n"
     ]
    },
    {
     "name": "stderr",
     "output_type": "stream",
     "text": [
      "[Parallel(n_jobs=1)]: Using backend SequentialBackend with 1 concurrent workers.\n",
      "[Parallel(n_jobs=1)]: Done  80 out of  80 | elapsed:    6.8s finished\n"
     ]
    },
    {
     "name": "stdout",
     "output_type": "stream",
     "text": [
      " MAE score: 0.22634001697632422 R^2 score: 0.3577103120826879 MSE score: 0.09724255719560494\n",
      " cross validation score: 0.4003280803272813\n"
     ]
    }
   ],
   "source": [
    "lasso_parameters = {\"lasso__fit_intercept\":[True,False],\n",
    "                    \"lasso__normalize\":[True,False],\n",
    "                    \"lasso__copy_X\":[True, False],\n",
    "                    \"lasso__precompute\" : [True, False],\n",
    "                   }\n",
    "model_validation(Lasso(), lasso_parameters, X_train, y_train, X_test, y_test)"
   ]
  },
  {
   "cell_type": "markdown",
   "metadata": {
    "_uuid": "366d6c57ad2cf69de425ce4d254f61eeecc2c5a9"
   },
   "source": [
    "Ridge Model"
   ]
  },
  {
   "cell_type": "code",
   "execution_count": 20,
   "metadata": {
    "_uuid": "892485b727a4900f3cf7122382ed3adbe9bd8ab6"
   },
   "outputs": [
    {
     "name": "stdout",
     "output_type": "stream",
     "text": [
      "Fitting 3 folds for each of 8 candidates, totalling 24 fits\n"
     ]
    },
    {
     "name": "stderr",
     "output_type": "stream",
     "text": [
      "[Parallel(n_jobs=1)]: Using backend SequentialBackend with 1 concurrent workers.\n"
     ]
    },
    {
     "name": "stdout",
     "output_type": "stream",
     "text": [
      "Best lasso model: Pipeline(memory=None,\n",
      "     steps=[('columntransformer', ColumnTransformer(n_jobs=None, remainder='drop', sparse_threshold=0.3,\n",
      "         transformer_weights=None,\n",
      "         transformers=[('pipeline-1', Pipeline(memory=None,\n",
      "     steps=[('simpleimputer', SimpleImputer(copy=True, fill_value='missing', missing_values=nan,\n",
      "       s...it_intercept=True, max_iter=None,\n",
      "   normalize=False, random_state=None, solver='auto', tol=0.001))])\n",
      "Best lasso score: 0.7684938219257356\n"
     ]
    },
    {
     "name": "stderr",
     "output_type": "stream",
     "text": [
      "[Parallel(n_jobs=1)]: Done  24 out of  24 | elapsed:    2.0s finished\n"
     ]
    }
   ],
   "source": [
    "ridge_pipe = make_pipeline(preprocess, Ridge())\n",
    "ridge_parameters = {\"ridge__fit_intercept\":[True,False],\n",
    "                    \"ridge__normalize\":[True,False],\n",
    "                    \"ridge__copy_X\":[True, False],\n",
    "                    \"ridge__solver\" : [\"auto\"],\n",
    "                   }\n",
    "ridge_grid = GridSearchCV(ridge_pipe, ridge_parameters, \n",
    "                                      verbose=1 , scoring = \"r2\", cv=3)\n",
    "ridge_grid.fit(X_train, y_train)\n",
    "print(\"Best lasso model: \" + str(ridge_grid.best_estimator_))\n",
    "print(\"Best lasso score: \" + str(ridge_grid.best_score_))"
   ]
  },
  {
   "cell_type": "code",
   "execution_count": 21,
   "metadata": {
    "_uuid": "752ad8d0e86aca8a4e540d8da569cb432983704d"
   },
   "outputs": [
    {
     "name": "stdout",
     "output_type": "stream",
     "text": [
      " MAE score: 0.14339839694456882 R^2 score: 0.7050774785468363 MSE score: 0.04465122311659067\n"
     ]
    }
   ],
   "source": [
    "predicted_values = ridge_grid.best_estimator_.fit(X_train, y_train).predict(X_test)\n",
    "evaluation(y_test, predicted_values)\n",
    "#print(ridge_grid.get_params().keys())"
   ]
  },
  {
   "cell_type": "markdown",
   "metadata": {
    "_uuid": "cf0a418acdfb19cbb8d944b9a940f5ab3cf50388"
   },
   "source": [
    "Decision Tree Model"
   ]
  },
  {
   "cell_type": "code",
   "execution_count": 22,
   "metadata": {
    "_uuid": "3dbd2b715edded7d845aa933ee475bd63fd87f39"
   },
   "outputs": [
    {
     "name": "stdout",
     "output_type": "stream",
     "text": [
      "Fitting 5 folds for each of 16 candidates, totalling 80 fits\n"
     ]
    },
    {
     "name": "stderr",
     "output_type": "stream",
     "text": [
      "[Parallel(n_jobs=1)]: Using backend SequentialBackend with 1 concurrent workers.\n",
      "[Parallel(n_jobs=1)]: Done  80 out of  80 | elapsed:   14.4s finished\n",
      "C:\\ProgramData\\Anaconda3\\lib\\site-packages\\sklearn\\model_selection\\_search.py:841: DeprecationWarning: The default of the `iid` parameter will change from True to False in version 0.22 and will be removed in 0.24. This will change numeric results when test-set sizes are unequal.\n",
      "  DeprecationWarning)\n"
     ]
    },
    {
     "name": "stdout",
     "output_type": "stream",
     "text": [
      " MAE score: 0.186919460287843 R^2 score: 0.5811652363740254 MSE score: 0.06341151698927772\n",
      " cross validation score: 0.609741088240149\n"
     ]
    }
   ],
   "source": [
    "decision_tree_parameters = {\"decisiontreeregressor__criterion\" : [\"mse\", \"mae\"], \n",
    "                            \"decisiontreeregressor__splitter\" : [\"best\", \"random\"], \n",
    "                            \"decisiontreeregressor__min_samples_split\" : [2, 3], \n",
    "                            \"decisiontreeregressor__max_features\" : [\"auto\", \"log2\"],\n",
    "                            \"decisiontreeregressor__max_depth\" : [5]\n",
    "                           }\n",
    "model_validation(DecisionTreeRegressor(), decision_tree_parameters, X_train, y_train, X_test, y_test)"
   ]
  },
  {
   "cell_type": "markdown",
   "metadata": {
    "_uuid": "f61a346aec1304ca528b02dfef6c0235655eb85c"
   },
   "source": [
    "Random Forest Model"
   ]
  },
  {
   "cell_type": "code",
   "execution_count": 23,
   "metadata": {
    "_uuid": "993f3b9c840b04b69bf69c78078e4c9af5216ce3"
   },
   "outputs": [
    {
     "name": "stdout",
     "output_type": "stream",
     "text": [
      "Fitting 5 folds for each of 4 candidates, totalling 20 fits\n"
     ]
    },
    {
     "name": "stderr",
     "output_type": "stream",
     "text": [
      "[Parallel(n_jobs=1)]: Using backend SequentialBackend with 1 concurrent workers.\n",
      "[Parallel(n_jobs=1)]: Done  20 out of  20 | elapsed:    9.2s finished\n"
     ]
    },
    {
     "name": "stdout",
     "output_type": "stream",
     "text": [
      " MAE score: 0.16142682111624385 R^2 score: 0.6822808859416195 MSE score: 0.04810262363255706\n",
      " cross validation score: 0.6212998590295692\n"
     ]
    }
   ],
   "source": [
    "random_forest_parameters = {\"randomforestregressor__max_depth\" : [3], \n",
    "                            \"randomforestregressor__min_samples_split\" : [2, 3], \n",
    "                            \"randomforestregressor__max_features\" : [\"auto\", \"log2\"]}\n",
    "model_validation(RandomForestRegressor(n_estimators=10, n_jobs=-1), \n",
    "                 random_forest_parameters, X_train, y_train, X_test, y_test)"
   ]
  },
  {
   "cell_type": "markdown",
   "metadata": {
    "_uuid": "bbd09277acc148aaf0821e2ef7f7835a9d7405ee"
   },
   "source": [
    "In conclusion, XGBoost perform the best based on statistics showed above."
   ]
  },
  {
   "cell_type": "code",
   "execution_count": 26,
   "metadata": {},
   "outputs": [
    {
     "name": "stdout",
     "output_type": "stream",
     "text": [
      "Fitting 5 folds for each of 2 candidates, totalling 10 fits\n"
     ]
    },
    {
     "name": "stderr",
     "output_type": "stream",
     "text": [
      "[Parallel(n_jobs=1)]: Using backend SequentialBackend with 1 concurrent workers.\n",
      "[Parallel(n_jobs=1)]: Done  10 out of  10 | elapsed:    5.8s finished\n"
     ]
    }
   ],
   "source": [
    "model_pipe = make_pipeline(preprocess, XGBRegressor())\n",
    "model_grid = GridSearchCV(model_pipe, parameters, \n",
    "                                      verbose=1 , scoring = \"r2\", cv=5)\n",
    "model_grid.fit(X_train, y_train)\n",
    "log_predicted_values = model_grid.best_estimator_.fit(X_train, y_train).predict(test)\n",
    "submission_predictions = np.exp(log_predicted_values)"
   ]
  }
 ],
 "metadata": {
  "kernelspec": {
   "display_name": "Python 3",
   "language": "python",
   "name": "python3"
  },
  "language_info": {
   "codemirror_mode": {
    "name": "ipython",
    "version": 3
   },
   "file_extension": ".py",
   "mimetype": "text/x-python",
   "name": "python",
   "nbconvert_exporter": "python",
   "pygments_lexer": "ipython3",
   "version": "3.6.7"
  }
 },
 "nbformat": 4,
 "nbformat_minor": 1
}
